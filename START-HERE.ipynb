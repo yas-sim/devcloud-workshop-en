{
 "cells": [
  {
   "cell_type": "markdown",
   "metadata": {},
   "source": [
    "# Intel(R) DevCloud for Edge - Hands-on Workshop\n",
    "\n"
   ]
  },
  {
   "cell_type": "markdown",
   "metadata": {},
   "source": [
    "You will learn following things through this workshop.\n",
    "\n",
    "## Agenda\n",
    "0.  Basic operation of Jupyter notebook - [jupyter-basic.ipynb](./jupyter-basic.ipynb)\n",
    "1.  Basic operation and principle of DevCloud - [devcloud-basic.ipynb](./devcloud-basic.ipynb)\n",
    "2.  How to run OpenVINO Benchmark on DevCloud - [benchmarking.ipynb](./benchmarking.ipynb)\n",
    "3.  How to develop a C++ project using OpenVINO and run it on DevCloud - [cpp-project.ipynb](./cpp-project.ipynb)"
   ]
  },
  {
   "cell_type": "markdown",
   "metadata": {},
   "source": [
    "4. < Appendix > Automate evaluation work on DevCloud - [automated-testing.ipynb](./automated-testing.ipynb)"
   ]
  }
 ],
 "metadata": {
  "kernelspec": {
   "display_name": "Python 3",
   "language": "python",
   "name": "python3"
  },
  "language_info": {
   "codemirror_mode": {
    "name": "ipython",
    "version": 3
   },
   "file_extension": ".py",
   "mimetype": "text/x-python",
   "name": "python",
   "nbconvert_exporter": "python",
   "pygments_lexer": "ipython3",
   "version": "3.6.5"
  }
 },
 "nbformat": 4,
 "nbformat_minor": 4
}
