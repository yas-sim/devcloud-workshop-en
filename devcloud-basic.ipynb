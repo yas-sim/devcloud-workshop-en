{
 "cells": [
  {
   "cell_type": "markdown",
   "metadata": {},
   "source": [
    "# Basic operation and principle of DevCloud\n",
    "You will learn the basic operation and the principle of DevCloud in this session.\n",
    "- How to run commands on **the development host**\n",
    "- How to run a commands (a job) on **the edge computing node**\n",
    "- How to specify the edge computing node to run a job"
   ]
  },
  {
   "cell_type": "markdown",
   "metadata": {},
   "source": [
    "DevCloud for Edge consists of 3 groups of servers and 1 storage\n",
    "1. Development servers\n",
    "2. Edge computing node servers\n",
    "3. Job queueing servers\n",
    "4. 50GB of cloud storage\n",
    "\n",
    "Development server runs Jupyter notebook. It's a Xeon server and the machine your are operating now.  \n",
    "Edge computing node is a group of computers. The edge nodes are in wide variety of hardware configurations and you can pick one and run your job for function and performance testing.\n",
    "\n",
    "<img src=https://devcloud.intel.com/edge/static/images/svg/Edge-howitworks_PN3.svg width=400, height=400></img>"
   ]
  },
  {
   "cell_type": "markdown",
   "metadata": {},
   "source": [
    "----\n",
    "## 1. Running several commands on the development host (a Xeon server)\n",
    "The commands starting with `!` will be passed to the OS shell and get run. You can run any generic Linux commands such as `pwd` and `ls`.  \n",
    "The commands you run will be executed on a Xeon server which is running this Jupyter notebook."
   ]
  },
  {
   "cell_type": "code",
   "execution_count": null,
   "metadata": {},
   "outputs": [],
   "source": [
    "!pwd\n",
    "!ls -l\n",
    "!echo Hello! I like OpenVINO"
   ]
  },
  {
   "cell_type": "markdown",
   "metadata": {},
   "source": [
    "----\n",
    "## 2. Sending a simple job to an **edge computing node**\n",
    "Using a simple job script and learn the basic operation to run a job on the edge computing node.   \n",
    "\n",
    "Let's create a simple job script and run it on the edge computing node.  \n",
    "The contents of the cell starting with `%%writefile <filename>` will be wrote out to a file. You can create any text file in this manner.  \n",
    "The job script is a Linux shell script. You can use any generic Linux shell script syntax in the script."
   ]
  },
  {
   "cell_type": "code",
   "execution_count": null,
   "metadata": {},
   "outputs": [],
   "source": [
    "%%writefile job.sh\n",
    "echo -n 'start dir='\n",
    "pwd\n",
    "cd devcloud-workshop-en\n",
    "pwd\n",
    "ls -l\n",
    "echo Hello! I like OpenVINO\n"
   ]
  },
  {
   "cell_type": "markdown",
   "metadata": {},
   "source": [
    "Let's check the contents of the script just created."
   ]
  },
  {
   "cell_type": "code",
   "execution_count": null,
   "metadata": {},
   "outputs": [],
   "source": [
    "!cat job.sh"
   ]
  },
  {
   "cell_type": "markdown",
   "metadata": {},
   "source": [
    "Now you have created a job file. Let's send the job to the queue server with the `qsub` command. The `job` will be sent to one of an empty edge node and get run.  \n",
    "The `qsub` command can take several option parameters but here we submit the job with no options.  \n",
    "After you submit a job, the `job ID` will be displayed. The first digits are the `job number` of the job you have just submitted."
   ]
  },
  {
   "cell_type": "markdown",
   "metadata": {},
   "source": [
    "|Option|Description|\n",
    "|:--|:--|\n",
    "|`-l` resource_name[=val][,resource_val[=val]]|Limits the compute node to run the job (=specify the node)|\n",
    "|`-o` file|STDOUT log file|\n",
    "|`-e` file|STDERR log file|\n",
    "|`-N` job_name|Job name|\n",
    "|`-d` working_dir|Working directory|\n",
    "|`-F` args_for_job|Parameters for the job script|"
   ]
  },
  {
   "cell_type": "code",
   "execution_count": null,
   "metadata": {},
   "outputs": [],
   "source": [
    "!qsub job.sh"
   ]
  },
  {
   "cell_type": "markdown",
   "metadata": {},
   "source": [
    "The status of the job can be checked with the `qstat` command. You can specify the job name with `-N` option, otherwise the job script file name will be used as the job name.  \n",
    "Run this cell repeatedly until the job is completed (until the job disappears)."
   ]
  },
  {
   "cell_type": "code",
   "execution_count": null,
   "metadata": {},
   "outputs": [],
   "source": [
    "!qstat"
   ]
  },
  {
   "cell_type": "markdown",
   "metadata": {},
   "source": [
    "Check if the job output files are created properly (`job.sh.o<job#>`)."
   ]
  },
  {
   "cell_type": "code",
   "execution_count": null,
   "metadata": {},
   "outputs": [],
   "source": [
    "!ls -l job.sh.o*"
   ]
  },
  {
   "cell_type": "markdown",
   "metadata": {},
   "source": [
    "Check the contents of the job output file. The `job#` part in the output file name will be changed every time you run the job. You need to modify the `job#` portion accordingly to check the result. The `job#` is displayed afte you run the `qsub` command.  \n",
    "\n",
    "Example of a job output file name => `job.sh.o22345`"
   ]
  },
  {
   "cell_type": "code",
   "execution_count": null,
   "metadata": {},
   "outputs": [],
   "source": [
    "!cat job.sh.o<job#>"
   ]
  },
  {
   "cell_type": "markdown",
   "metadata": {},
   "source": [
    "Now you have learnt the basic operation of DevCloud and how to submit a job to an edge computing node. Here's the summary of basic flow of operation.  \n",
    "1. Create a job script file to submit (a shell script)\n",
    "2. Submit the job script with `qsub` command\n",
    "3. Check the status of the job with `qstat` command (`Q`=`Queued`, `R`=`Running`, `E`=`Error`)\n",
    "4. Check the job output in `<job_name>.o<job#>`  \n",
    "\n",
    "**Extra assignment** Modify `job.sh` and check what you can do with it."
   ]
  },
  {
   "cell_type": "markdown",
   "metadata": {},
   "source": [
    "### Hints for developing a job\n",
    "- The working directory at the edge computing node side is your home directory (`~`, `$HOME`, `/home/u123456`)\n",
    "  - Be aware that it's not the same as where you submit the job in the development server\n",
    "- The same storage is visible from both development server side and the edge computing node side. You don't need to transfer the files to be used in your job\n",
    "- The contents of the storage is protected. It's not visible to the other users nor even Intel operators"
   ]
  },
  {
   "cell_type": "markdown",
   "metadata": {},
   "source": [
    "----\n",
    "## 3. Run a job on a specific edge computing node"
   ]
  },
  {
   "cell_type": "markdown",
   "metadata": {},
   "source": [
    "### Display the list of available edge computing nodes\n",
    "First, let's list the available edge computing nodes. The `pbsnodes` command will list the nodes.\n",
    "<br><br>\n",
    "- **Node name**\n",
    " - Each `properties=` represents the set of node names of a edge node\n",
    " - For instance, you can understand there's 13 nodes in the same configuration are available because `uniq` command consolidates and count the same outputs  \n",
    "\n",
    ">`  13      properties = idc002mx8,compnode,iei,tank-870,intel-core,i5-6500te,skylake,intel-hd-530,ram8gb,net1gbe,hddl-r,iei-mustang-v100-mx8`\n",
    "\n",
    " - You can specify the node with any one of comma-separated node names in the line. For instance, you can use any one of `idc002mx8`, `intel-core`, or `intel-hd-530` to specify this node. The job will be run on one of nodes which has the name specified. The node name `intel-core` is shared among multiple nodes and the job will be run on one of them. If you specify more specific (and narrower) name, you can control the node to run your job a more precisely but your job will have a higher chance to wait for a longer time."
   ]
  },
  {
   "cell_type": "code",
   "execution_count": null,
   "metadata": {},
   "outputs": [],
   "source": [
    "!pbsnodes | grep \"properties =\" | sort | uniq -c"
   ]
  },
  {
   "cell_type": "markdown",
   "metadata": {},
   "source": [
    "### Submit a job to a specific edge computing node\n",
    "- `qsub` command\n",
    " - You can specify the edge compute node with `-l` (limit) option in `qsub` command. You can use the `-l` option like `-l nodes=1:node_name`. For example, you can specify `qsub -l nodes=1:skylake job.sh` when you want to run the job on a `skylake` node.  \n",
    "- We'll re-use the `job.sh` job script file which we have created in the previous section.\n",
    "- Log file name\n",
    " - Here, we'll auto generate the job file name using a Python snippet from the `job ID` (a list of string like `['27214.v-qsvr-1.devcloud-edge']`) returned from the `qsub` command\n",
    "- Job completion detection\n",
    " - You run `qstat` command multiple times manually to know the completion of a job in previous section. Here, we'll use a Python snippet to detect it automatically"
   ]
  },
  {
   "cell_type": "code",
   "execution_count": null,
   "metadata": {},
   "outputs": [],
   "source": [
    "# submit a job (specifying i5-6500te as the edge node to run it)\n",
    "job_id=!qsub -l nodes=1:i5-6500te job.sh\n",
    "\n",
    "# generate log file name from job_id\n",
    "job_num = job_id[0].split('.')[0]\n",
    "log_file='job.sh.o'+job_num\n",
    "err_file='job.sh.e'+job_num\n",
    "print('job_id={}, log_file={}'.format(job_id, log_file))\n",
    "\n",
    "import time\n",
    "def waitForJobCompletion(jobNumber):\n",
    "    print('Waiting for job completion...', end='')\n",
    "    running=True\n",
    "    while running:\n",
    "        time.sleep(1)\n",
    "        running=False\n",
    "        status_list=!qstat         # Check job status\n",
    "        for status in status_list:\n",
    "            if jobNumber in status:    # if job_num is found in the status list, the job is still running\n",
    "                running = True\n",
    "        print(status.split()[4], end='')\n",
    "    print('...Job {} completed'.format(job_num))    \n",
    "\n",
    "# wait for the job to complete\n",
    "waitForJobCompletion(job_num)"
   ]
  },
  {
   "cell_type": "markdown",
   "metadata": {},
   "source": [
    "### Check the contents of the log file\n",
    "\n",
    "Check the line including `Resources:` to confirm if your job run on the specified edge computing node."
   ]
  },
  {
   "cell_type": "code",
   "execution_count": null,
   "metadata": {},
   "outputs": [],
   "source": [
    "# The log_file is set in the previous cell\n",
    "import os\n",
    "os.environ['log_file']=log_file\n",
    "\n",
    "!cat $log_file"
   ]
  },
  {
   "cell_type": "markdown",
   "metadata": {},
   "source": [
    "----\n",
    "Now, you have learnt the basic operation and principle of DevCloud.\n",
    "- How to submit a job to an edge computing node in DevCloud\n",
    "- How to submit a job to a specific edge computing node\n",
    "\n",
    "## Next => [How to run OpenVINO Benchmark on DevCloud](./benchmarking.ipynb)"
   ]
  }
 ],
 "metadata": {
  "kernelspec": {
   "display_name": "Python 3",
   "language": "python",
   "name": "python3"
  },
  "language_info": {
   "codemirror_mode": {
    "name": "ipython",
    "version": 3
   },
   "file_extension": ".py",
   "mimetype": "text/x-python",
   "name": "python",
   "nbconvert_exporter": "python",
   "pygments_lexer": "ipython3",
   "version": "3.6.5"
  }
 },
 "nbformat": 4,
 "nbformat_minor": 4
}
