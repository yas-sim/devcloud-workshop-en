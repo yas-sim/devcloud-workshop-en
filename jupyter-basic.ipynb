{
 "cells": [
  {
   "cell_type": "markdown",
   "metadata": {},
   "source": [
    "# Learning the basic operation of Jupyter notebook (JupyterLab)"
   ]
  },
  {
   "cell_type": "markdown",
   "metadata": {},
   "source": [
    "## 1 Learning how to use `Code` cell\n",
    "Basic of the `code` cells.\n",
    "- You can write generic Python snippets and run it.\n",
    "- Run the code in the cell by pressing `CTRL+Enter` or `Run` button.\n",
    "- The result will be displayed right below the cell.\n",
    "- The cells can be run in any order. Also the same cell can be executed multiple times.\n",
    " - The Python kernel awares only codes you run. You'll get an error if the code refers to the functions or variables which are defined in the cells not executed yet.\n",
    "- The commands start with `!` will be passed to the OS shell and be executed.\n",
    "- The commands start with `%` or `%%` are so called magic-command and provides special features."
   ]
  },
  {
   "cell_type": "markdown",
   "metadata": {},
   "source": [
    "### 1.1. Displaying a string\n",
    "Put focus on the code cell below (e.g. click the cell with mouse) and hit **`CTRL+Enter`** to run it.  \n",
    "Check the displayed string below the cell."
   ]
  },
  {
   "cell_type": "code",
   "execution_count": null,
   "metadata": {},
   "outputs": [],
   "source": [
    "# This is a 'code' cell\n",
    "print(\"Hello, world\")"
   ]
  },
  {
   "cell_type": "markdown",
   "metadata": {},
   "source": [
    "### 1.2. Running a bit complecated Python code\n",
    "Run the following code using `for` loop. Such like this, you can run any generic Python code in the code cell."
   ]
  },
  {
   "cell_type": "code",
   "execution_count": null,
   "metadata": {},
   "outputs": [],
   "source": [
    "for i in range(10):\n",
    "    print(i, end='')\n",
    "    if i % 2==0:\n",
    "        print(' Even')\n",
    "    else:\n",
    "        print(' Odd')\n",
    "\n",
    "a = [ '{} Odd'.format(i) if i % 2 else '{} Even'.format(i) for i in range(10)]\n",
    "print(a)"
   ]
  },
  {
   "cell_type": "markdown",
   "metadata": {},
   "source": [
    "### 1.3. Running Linux commands in the code cell\n",
    "A command start with `!` will be passed to OS shell and get run."
   ]
  },
  {
   "cell_type": "code",
   "execution_count": null,
   "metadata": {},
   "outputs": [],
   "source": [
    "!ls -l"
   ]
  },
  {
   "cell_type": "markdown",
   "metadata": {},
   "source": [
    "### 1.4. Using Linux command with Python code\n",
    "It is possible to receive the output of linux command with Python variable, and/or pass information from Python to linux command via shell environment variables. "
   ]
  },
  {
   "cell_type": "code",
   "execution_count": null,
   "metadata": {},
   "outputs": [],
   "source": [
    "# Receive command rsult with a Python variable\n",
    "res=!ls -l\n",
    "for a in res:\n",
    "    print(a)\n",
    "\n",
    "# Pass information to linux command (via environment variable)\n",
    "import os\n",
    "os.environ['TEST']='hello'\n",
    "!echo \"\\$TEST=${TEST}\""
   ]
  },
  {
   "cell_type": "markdown",
   "metadata": {},
   "source": [
    "----\n",
    "Now you have learnt the basic operation of the Jupyter notebook.\n",
    "Let's move on to the next section and learn how to use DevCloud from Jupyter notebook.\n",
    "## Next => [Basic operation and principle of DevCloud](devcloud-basic.ipynb)"
   ]
  }
 ],
 "metadata": {
  "kernelspec": {
   "display_name": "Python 3",
   "language": "python",
   "name": "python3"
  },
  "language_info": {
   "codemirror_mode": {
    "name": "ipython",
    "version": 3
   },
   "file_extension": ".py",
   "mimetype": "text/x-python",
   "name": "python",
   "nbconvert_exporter": "python",
   "pygments_lexer": "ipython3",
   "version": "3.6.5"
  }
 },
 "nbformat": 4,
 "nbformat_minor": 4
}
