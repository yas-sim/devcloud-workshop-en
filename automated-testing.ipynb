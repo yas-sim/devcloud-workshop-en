{
 "cells": [
  {
   "cell_type": "markdown",
   "metadata": {},
   "source": [
    "# [APPENDIX] Automate a complex and troublesome testing"
   ]
  },
  {
   "cell_type": "markdown",
   "metadata": {},
   "source": [
    "You may want to try as many conditions as possible to test your program on the DevCloud.  \n",
    "If you do it manually, it is a time consuming and boring task. Also, there's a risk of skipping a condition unintentionally. It is inefficient and low reproducibility.  \n",
    "Here, we introduce a simple example to make it automated using a piece of Python code."
   ]
  },
  {
   "cell_type": "markdown",
   "metadata": {},
   "source": [
    "We'll use an OpenVINO sample application `benchmark_app` as an example and use `googlenet-v1` and `squeezenet1.1` as a DL model for this test."
   ]
  },
  {
   "cell_type": "markdown",
   "metadata": {},
   "source": [
    "## 1. Preparing required files\n",
    "Copy `benchmark_app` from the OpenVINO install directory.  \n",
    "Download and convert DL models (`squeezenet1.1` and `googlenet-v1`) using `Model downloader` and `Model converter`. You'll get DL models in IR format."
   ]
  },
  {
   "cell_type": "code",
   "execution_count": null,
   "metadata": {},
   "outputs": [],
   "source": [
    "!cp -r $INTEL_OPENVINO_DIR/deployment_tools/tools/benchmark_tool .\n",
    "!python3 $INTEL_OPENVINO_DIR/deployment_tools/tools/model_downloader/downloader.py --name squeezenet1.1,googlenet-v1\n",
    "!python3 $INTEL_OPENVINO_DIR/deployment_tools/tools/model_downloader/converter.py  --name squeezenet1.1,googlenet-v1 --precisions FP16"
   ]
  },
  {
   "cell_type": "markdown",
   "metadata": {},
   "source": [
    "## 2. Defines a class and function for test automation\n",
    "A class and some functions are defined here. The `autoParam` is a class to update parameter state and generate option parameter string, and functions are to simplify job control. You can easily automate your task with those class and functions. You can register the test automation class by executing the cell below (The next cell just register the class. Nothing will be displayed)    \n",
    "- `autoParam class` : Update parameter state (`update()`) and generate option parameter string (`get()`) from a given parameter list\n",
    "- `waitForJobCompletion(jobNum)`: Wait for the completion of specified job. Display the status of the job while waitin for the job completion.\n",
    "- `runjob(nodeName, jobFile, params)` : Run a job on the specified node with. Pass option parameter to the job with run it.\n",
    "- `printLineOfInterest(logFile, matchString)` : Display the lines which include the `matchString` from a file"
   ]
  },
  {
   "cell_type": "code",
   "execution_count": null,
   "metadata": {},
   "outputs": [],
   "source": [
    "# Automated test library\n",
    "# Intel Corporation\n",
    "# Yasunori Shimura\n",
    "\n",
    "#           0      1       2           3      4    5\n",
    "# val:   prefix, type, initial,      start, end, step\n",
    "# enum:  prefix, type, initial_idx, item1, item2, item3,...\n",
    "#\n",
    "# e.g. parameter_list = [ [ '-nireq', 'val', 0, 0, 5, 1 ], [ '-flag', 'enum', 0, 'true', 'false', 'none'], [ '-precision', 'val', 0.5, 0.3, 0.8, 0.1 ] ]\n",
    "\n",
    "# usage example:\n",
    "# a=autoParam(parameter_list)\n",
    "# print(a.get())\n",
    "# a.update()\n",
    "\n",
    "class autoParam:\n",
    "    def __init__(self, param_list):\n",
    "        self.param_list = param_list\n",
    "\n",
    "    def update(self):\n",
    "        exit_flag=False\n",
    "        for param in self.param_list:\n",
    "            if param[1]=='val':\n",
    "                param[2]+=param[5]\n",
    "                if param[2]>param[4]:\n",
    "                    param[2]=param[3]\n",
    "                else:\n",
    "                    exit_flag=True\n",
    "            elif param[1]=='enum':\n",
    "                param[2]+=1\n",
    "                if param[2]>=len(param)-3:\n",
    "                    param[2]=0\n",
    "                else:\n",
    "                    exit_flag=True\n",
    "            if exit_flag:\n",
    "                return False\n",
    "        return True                 # reached to end of the update loop (==Performed all parameter combination)\n",
    "\n",
    "    def get(self):\n",
    "        ret=''\n",
    "        for param in self.param_list:\n",
    "            if param[1]=='val':\n",
    "                tmp=' {} {}'.format(param[0], param[2])\n",
    "            elif param[1]=='enum':\n",
    "                tmp=' {} {}'.format(param[0], param[param[2]+3])\n",
    "            ret+=tmp\n",
    "        return ret\n",
    "\n",
    "# -----------------------------\n",
    "\n",
    "import time\n",
    "def waitForJobCompletion(jobNumber):\n",
    "    print('Waiting for job completion...', end='')\n",
    "    running=True\n",
    "    while running:\n",
    "        time.sleep(1)\n",
    "        running=False\n",
    "        status_list=!qstat           # Check job status\n",
    "        for status in status_list:\n",
    "            if jobNumber in status:  # if job_num is found in the status list, the job is still running\n",
    "                running = True\n",
    "        print(status.split()[4], end='')\n",
    "    print('...Job {} completed'.format(jobNumber))    \n",
    "\n",
    "import subprocess\n",
    "def runJob(node_name, jobFile, params):\n",
    "    # submit a job\n",
    "    cmd='qsub -l {} {} -F \"{}\"'.format(node_name, jobFile, params)\n",
    "    print(cmd)\n",
    "    job_id=subprocess.check_output(cmd, shell=True).decode().strip()\n",
    "    job_num = job_id.split('.')[0]\n",
    "    print('job_id=', job_id)\n",
    "\n",
    "    # wait for the job to complete\n",
    "    waitForJobCompletion(job_num)\n",
    "    return job_num\n",
    "\n",
    "def printLineOfInterest(logFile, matchString):\n",
    "    for l in [ line.strip() for line in open(logFile).readlines() ]:\n",
    "        if matchString in l:\n",
    "            print(l)   "
   ]
  },
  {
   "cell_type": "markdown",
   "metadata": {},
   "source": [
    "## 3. Generate a job script file\n",
    "Create a job script text file with `%%writefile` magic command.  \n",
    "The point here is, using `$*` in the script to make the script file accept the option parameters."
   ]
  },
  {
   "cell_type": "code",
   "execution_count": null,
   "metadata": {},
   "outputs": [],
   "source": [
    "%%writefile job.sh\n",
    "root=~/devcloud-workshop-en\n",
    "cd $root\n",
    "python3 benchmark_tool/benchmark_app.py $*\n"
   ]
  },
  {
   "cell_type": "markdown",
   "metadata": {},
   "source": [
    "## 4. Learning how to use autoParam\n",
    "You can set a parameter list with autoParam constructor and autoParam can update and generate the test option parameter string. \n",
    "- `autoParam.update()` : Update the state of the parameters. The update starts from the top parameter and if the parameter value reached to the end value, the parameter value will roll-back to the start value, and then the next parameter will be updated (something like carry in counting up). This returns `True` in case the all parameter reached to the end value and `False` in other cases.\n",
    "- `autoParam.get()` : Generate a parameter string based on the current parameter values"
   ]
  },
  {
   "cell_type": "markdown",
   "metadata": {},
   "source": [
    "### Parameter list format\n",
    "Below is the format of the parameter list. You can specify either `val` or `enum` as the parameter type.  \n",
    "`val` will increase the value from `start` to `end` with `step` increment. You can use real (floating point) values but need to use care of the precision and accuracy of the real value.  \n",
    "`enum` will use `item`s listed in order. You can specify discrete or random values with `enum` instead of using `val`  \n",
    "Both type start with the `initial_value` (not start with the `start` value). This will allow you to resume a suspended testing from the middle.  \n",
    "~~~\n",
    "val:   [ option_flag_string , 'val',  initial_val, start, end, step ]\n",
    "enum:  [ option_flag_string , 'enum', initial_idx, item1, item2, item3,... ]\n",
    "~~~"
   ]
  },
  {
   "cell_type": "markdown",
   "metadata": {},
   "source": [
    "Run the cell below and check how it works."
   ]
  },
  {
   "cell_type": "code",
   "execution_count": null,
   "metadata": {},
   "outputs": [],
   "source": [
    "param_list = [ [ '-niter', 'enum', 0, '10', '100' ],\n",
    "               [ '-nireq', 'val',  1, 1, 4, 1 ],\n",
    "               [ '-m',     'enum', 0, 'public/squeezenet1.1/FP16/squeezenet1.1.xml', 'public/googlenet-v1/FP16/googlenet-v1.xml' ]\n",
    "             ]\n",
    "\n",
    "param=autoParam(param_list)\n",
    "status=False\n",
    "while status==False:\n",
    "    param_str = param.get()\n",
    "    print(param_str)\n",
    "    status=param.update()"
   ]
  },
  {
   "cell_type": "markdown",
   "metadata": {},
   "source": [
    "## 5. Running an automated testing\n",
    "Let's run a test using the automation library.  \n",
    "As you can see below, a simple Python script can automate the testing on DevCloud."
   ]
  },
  {
   "cell_type": "markdown",
   "metadata": {},
   "source": [
    "In this script, `printLineOfinterest()` function is used to display only required information to make the report concise."
   ]
  },
  {
   "cell_type": "markdown",
   "metadata": {},
   "source": [
    "Then, we are ready to run the automated test. Let's run the cell below.  \n",
    "\n",
    "Check the performance variation by given parameter."
   ]
  },
  {
   "cell_type": "code",
   "execution_count": null,
   "metadata": {},
   "outputs": [],
   "source": [
    "param_list = [\n",
    "    [ '-niter', 'enum', 0, '10', '100' ],\n",
    "    [ '-nireq', 'val',  1, 1, 4, 1 ],\n",
    "    [ '-m',     'enum', 0, 'public/squeezenet1.1/FP16/squeezenet1.1.xml', \n",
    "                           'public/googlenet-v1/FP16/googlenet-v1.xml' ]\n",
    "]\n",
    "\n",
    "param=autoParam(param_list)\n",
    "status=False\n",
    "while status==False:\n",
    "    param_str = param.get()\n",
    "    job_num = runJob('nodes=1:skylake', 'job.sh', param_str)\n",
    "\n",
    "    # Display the result from the log file\n",
    "    log_file = 'job.sh.o'+job_num\n",
    "    printLineOfInterest(log_file, 'Resources:')\n",
    "    printLineOfInterest(log_file, 'Count:')\n",
    "    printLineOfInterest(log_file, 'Duration:')\n",
    "    printLineOfInterest(log_file, 'Latency:')\n",
    "    printLineOfInterest(log_file, 'Throughput:')\n",
    "\n",
    "    status=param.update()     # update option parameter list for next iteration\n",
    "    print('-'*40)\n",
    "\n",
    "print('All test completed')"
   ]
  },
  {
   "cell_type": "markdown",
   "metadata": {},
   "source": [
    "## 6. Cleaning up\n",
    "Many output log files will be generated. Let's delete them to clean up the directory."
   ]
  },
  {
   "cell_type": "code",
   "execution_count": null,
   "metadata": {},
   "outputs": [],
   "source": [
    "!rm job.sh.o*\n",
    "!rm job.sh.e*"
   ]
  },
  {
   "cell_type": "markdown",
   "metadata": {},
   "source": [
    "----\n",
    "Now, you have learnt how to automate your testing with simple Python script.  \n",
    "You can increase the efficiency, reproducibility of your test and reduce the mistake with automation.\n",
    "\n",
    "Many parameters are exisiting in the deep learning inferencing application and it contributes to the performance of the application. In many cases, the performance can be x2 or x3 just with the optimal parameters.  \n",
    "You can try as many conditions as possible with test automation.\n",
    "\n",
    "Try finding the optimal configuration for your application by utilizing DevCloud and test automation."
   ]
  },
  {
   "cell_type": "markdown",
   "metadata": {},
   "source": [
    "End of the course"
   ]
  }
 ],
 "metadata": {
  "kernelspec": {
   "display_name": "Python 3",
   "language": "python",
   "name": "python3"
  },
  "language_info": {
   "codemirror_mode": {
    "name": "ipython",
    "version": 3
   },
   "file_extension": ".py",
   "mimetype": "text/x-python",
   "name": "python",
   "nbconvert_exporter": "python",
   "pygments_lexer": "ipython3",
   "version": "3.6.5"
  }
 },
 "nbformat": 4,
 "nbformat_minor": 4
}
